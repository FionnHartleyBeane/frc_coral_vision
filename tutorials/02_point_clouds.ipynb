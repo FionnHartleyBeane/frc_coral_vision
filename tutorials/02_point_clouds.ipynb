{
 "cells": [
  {
   "cell_type": "markdown",
   "id": "1540434e",
   "metadata": {},
   "source": [
    "# Robot Vision Tutorial #2: 3D Shape Extraction\n",
    "\n",
    "In the first tutorial, we explored how to process **color and depth images** to filter relevant objects. Now, we extend our approach into **3D space** using **point clouds**.\n",
    "\n",
    "In this tutorial, we will:\n",
    "\n",
    "1. **Convert depth images into 3D point clouds**\n",
    "2. **Apply clustering to detect structures in the environment**\n",
    "3. **Fit Cylinder to the Data**"
   ]
  },
  {
   "cell_type": "code",
   "execution_count": 1,
   "id": "64ec51da",
   "metadata": {},
   "outputs": [
    {
     "ename": "ModuleNotFoundError",
     "evalue": "No module named 'open3d'",
     "output_type": "error",
     "traceback": [
      "\u001b[31m---------------------------------------------------------------------------\u001b[39m",
      "\u001b[31mModuleNotFoundError\u001b[39m                       Traceback (most recent call last)",
      "\u001b[36mCell\u001b[39m\u001b[36m \u001b[39m\u001b[32mIn[1]\u001b[39m\u001b[32m, line 7\u001b[39m\n\u001b[32m      5\u001b[39m \u001b[38;5;28;01mimport\u001b[39;00m\u001b[38;5;250m \u001b[39m\u001b[34;01mnumpy\u001b[39;00m\u001b[38;5;250m \u001b[39m\u001b[38;5;28;01mas\u001b[39;00m\u001b[38;5;250m \u001b[39m\u001b[34;01mnp\u001b[39;00m\n\u001b[32m      6\u001b[39m \u001b[38;5;28;01mimport\u001b[39;00m\u001b[38;5;250m \u001b[39m\u001b[34;01mcv2\u001b[39;00m\n\u001b[32m----> \u001b[39m\u001b[32m7\u001b[39m \u001b[38;5;28;01mimport\u001b[39;00m\u001b[38;5;250m \u001b[39m\u001b[34;01mopen3d\u001b[39;00m\u001b[38;5;250m \u001b[39m\u001b[38;5;28;01mas\u001b[39;00m\u001b[38;5;250m \u001b[39m\u001b[34;01mo3d\u001b[39;00m\n\u001b[32m      8\u001b[39m \u001b[38;5;28;01mimport\u001b[39;00m\u001b[38;5;250m \u001b[39m\u001b[34;01mmatplotlib\u001b[39;00m\u001b[34;01m.\u001b[39;00m\u001b[34;01mpyplot\u001b[39;00m\u001b[38;5;250m \u001b[39m\u001b[38;5;28;01mas\u001b[39;00m\u001b[38;5;250m \u001b[39m\u001b[34;01mplt\u001b[39;00m\n\u001b[32m      9\u001b[39m \u001b[38;5;28;01mfrom\u001b[39;00m\u001b[38;5;250m \u001b[39m\u001b[34;01msklearn\u001b[39;00m\u001b[34;01m.\u001b[39;00m\u001b[34;01mcluster\u001b[39;00m\u001b[38;5;250m \u001b[39m\u001b[38;5;28;01mimport\u001b[39;00m DBSCAN\n",
      "\u001b[31mModuleNotFoundError\u001b[39m: No module named 'open3d'"
     ]
    }
   ],
   "source": [
    "import os, sys\n",
    "notebook_dir = os.getcwd()\n",
    "sys.path.append(os.path.join(notebook_dir, os.pardir))\n",
    "\n",
    "import numpy as np\n",
    "import cv2\n",
    "import open3d as o3d\n",
    "import matplotlib.pyplot as plt\n",
    "from sklearn.cluster import DBSCAN\n",
    "from utils.load_tutorial_data import load_tutorial_data, plot_clusters  # Custom utility for loading RGB + depth data"
   ]
  },
  {
   "cell_type": "markdown",
   "id": "645c5136",
   "metadata": {},
   "source": [
    "## Step 1: Load and Visualize Data\n",
    "\n",
    "We begin by loading the **RGB image** and **depth image**, then converting them into a **point cloud** for 3D analysis."
   ]
  },
  {
   "cell_type": "code",
   "execution_count": 4,
   "id": "be76d5c7",
   "metadata": {},
   "outputs": [],
   "source": [
    "# Load RGB and depth data\n",
    "data_dir = os.path.join(notebook_dir, os.pardir, 'data', 'cam_on_bot1')\n",
    "pcd_colored = load_tutorial_data(data_dir, 1338)\n",
    "\n",
    "o3d.visualization.draw_geometries([pcd_colored])\n",
    "points = np.asarray(pcd_colored.points)"
   ]
  },
  {
   "cell_type": "markdown",
   "id": "29834af9",
   "metadata": {},
   "source": [
    "## Step 3: Apply Clustering\n",
    "\n",
    "The raw point cloud contains **many points** from the scene. We use **DBSCAN** clustering to segment **distinct objects**."
   ]
  },
  {
   "cell_type": "code",
   "execution_count": 5,
   "id": "9d1f04d1",
   "metadata": {
    "lines_to_next_cell": 1
   },
   "outputs": [],
   "source": [
    "\n",
    "# Apply DBSCAN clustering\n",
    "# https://scikit-learn.org/stable/modules/generated/sklearn.cluster.DBSCAN.html\n",
    "# https://scikit-learn.org/stable/auto_examples/cluster/plot_dbscan.html\n",
    "\n",
    "# You should cluster the `points` variable.\n",
    "labels = DBSCAN(0.025, min_samples=15).fit_predict(points)\n",
    "plot_clusters(points, labels)\n",
    "\n",
    "# the clusterer will have a labels_ variable\n",
    "# you can call this function when you're done\n",
    "# plot_clusters(points, labels_)"
   ]
  }
 ],
 "metadata": {
  "jupytext": {
   "cell_metadata_filter": "-all",
   "main_language": "python",
   "notebook_metadata_filter": "-all"
  },
  "kernelspec": {
   "display_name": "Python 3",
   "language": "python",
   "name": "python3"
  },
  "language_info": {
   "codemirror_mode": {
    "name": "ipython",
    "version": 3
   },
   "file_extension": ".py",
   "mimetype": "text/x-python",
   "name": "python",
   "nbconvert_exporter": "python",
   "pygments_lexer": "ipython3",
   "version": "3.13.2"
  }
 },
 "nbformat": 4,
 "nbformat_minor": 5
}
