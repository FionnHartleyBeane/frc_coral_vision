{
 "cells": [
  {
   "cell_type": "markdown",
   "id": "bdbdeeb0",
   "metadata": {},
   "source": [
    "# NumPy Preliminaries\n",
    "\n",
    "In this notebook, we'll cover the basics of NumPy:\n",
    "\n",
    "- **Arrays:** How to create and work with NumPy arrays.\n",
    "- **Indexing & Slicing:** How to access and manipulate array elements.\n",
    "- **Masking (Boolean Indexing):** How to select elements based on conditions.\n",
    "\n",
    "NumPy is a powerful library for numerical computing in Python, and these concepts are essential for many data science and robotics applications."
   ]
  },
  {
   "cell_type": "code",
   "execution_count": 79,
   "id": "e72013a7",
   "metadata": {},
   "outputs": [],
   "source": [
    "# We can import Numpy here. About 100% of the time that people use numpy they call it 'np'\n",
    "import numpy as np\n",
    "\n",
    "\n",
    "# Placeholder\n",
    "your_code_here = lambda: None"
   ]
  },
  {
   "cell_type": "markdown",
   "id": "b0c737b7",
   "metadata": {},
   "source": [
    "## 1. Creating Arrays\n",
    "\n",
    "NumPy arrays are the core data structure. You can create them from lists or using built-in functions."
   ]
  },
  {
   "cell_type": "code",
   "execution_count": 80,
   "id": "0eb38aa9",
   "metadata": {},
   "outputs": [
    {
     "name": "stdout",
     "output_type": "stream",
     "text": [
      "1D array: [1 2 3 4 5]\n",
      "Shape: (5,)\n",
      "\n",
      "2D array:\n",
      " [[1 2 3]\n",
      " [4 5 6]]\n",
      "Shape: (2, 3)\n",
      "\n",
      "Zeros:\n",
      " [[0. 0. 0. 0.]\n",
      " [0. 0. 0. 0.]\n",
      " [0. 0. 0. 0.]]\n",
      "\n",
      "Ones:\n",
      " [[1. 1. 1. 1. 1.]\n",
      " [1. 1. 1. 1. 1.]]\n",
      "\n",
      "Arange: [0 2 4 6 8]\n",
      "\n",
      "Linspace: [0.   0.25 0.5  0.75 1.  ]\n"
     ]
    }
   ],
   "source": [
    "# Create a 1D array from a list\n",
    "a = np.array([1, 2, 3, 4, 5])\n",
    "print(\"1D array:\", a)\n",
    "print(\"Shape:\", a.shape)\n",
    "\n",
    "# Create a 2D array from nested lists\n",
    "b = np.array([[1, 2, 3], [4, 5, 6]])\n",
    "print(\"\\n2D array:\\n\", b)\n",
    "print(\"Shape:\", b.shape)\n",
    "\n",
    "# Create arrays with built-in functions\n",
    "zeros = np.zeros((3, 4))\n",
    "ones = np.ones((2, 5))\n",
    "range_array = np.arange(0, 10, 2)  # From 0 to 8 with step 2\n",
    "linspace_array = np.linspace(0, 1, 5)  # 5 numbers between 0 and 1\n",
    "\n",
    "print(\"\\nZeros:\\n\", zeros)\n",
    "print(\"\\nOnes:\\n\", ones)\n",
    "print(\"\\nArange:\", range_array)\n",
    "print(\"\\nLinspace:\", linspace_array)"
   ]
  },
  {
   "cell_type": "code",
   "execution_count": 81,
   "id": "ea4264ab",
   "metadata": {},
   "outputs": [
    {
     "name": "stdout",
     "output_type": "stream",
     "text": [
      "\n",
      "Zeros:\n",
      " [[0. 0. 0. 0. 0. 0. 0. 0. 0. 0.]\n",
      " [0. 0. 0. 0. 0. 0. 0. 0. 0. 0.]\n",
      " [0. 0. 0. 0. 0. 0. 0. 0. 0. 0.]\n",
      " [0. 0. 0. 0. 0. 0. 0. 0. 0. 0.]\n",
      " [0. 0. 0. 0. 0. 0. 0. 0. 0. 0.]\n",
      " [0. 0. 0. 0. 0. 0. 0. 0. 0. 0.]\n",
      " [0. 0. 0. 0. 0. 0. 0. 0. 0. 0.]\n",
      " [0. 0. 0. 0. 0. 0. 0. 0. 0. 0.]\n",
      " [0. 0. 0. 0. 0. 0. 0. 0. 0. 0.]\n",
      " [0. 0. 0. 0. 0. 0. 0. 0. 0. 0.]]\n",
      "\n",
      "Threes\n",
      " [ 0  3  6  9 12 15 18 21 24 27 30 33 36 39 42 45 48 51 54 57 60 63 66 69\n",
      " 72 75 78 81 84 87 90 93 96 99]\n",
      "\n",
      "Zeros:\n",
      " [[1 2 3]\n",
      " [4 5 6]\n",
      " [7 8 9]]\n"
     ]
    }
   ],
   "source": [
    "## Now try a couple things to test knowledge.\n",
    "\n",
    "# Challenge 1: Create an array that is 10x10, all zeros\n",
    "\n",
    "zeros = np.zeros((10, 10))\n",
    "print(\"\\nZeros:\\n\", zeros)\n",
    "\n",
    "# Challenge 2: Create an array that is all the integers divisible by 3 between 0 and 100.\n",
    "\n",
    "threeArray = np.arange(0, 100, 3)\n",
    "print(\"\\nThrees\\n\", threeArray)\n",
    "\n",
    "# Challenge 2: Create a matrix that looks like this (without typing it out!)\n",
    "# You'll probably want to google np.reshape()!\n",
    "# [[1 2 3]\n",
    "#  [4 5 6]\n",
    "#  [7 8 9]]\n",
    "\n",
    "numArray = np.arange(1, 10, 1)\n",
    "shape_array = numArray.reshape(3, 3)\n",
    "print(\"\\nZeros:\\n\", shape_array)\n"
   ]
  },
  {
   "cell_type": "markdown",
   "id": "b64140a2",
   "metadata": {},
   "source": [
    "## 2. Indexing and Slicing\n",
    "\n",
    "You can access elements in an array using indexing and slicing. \n",
    "\n",
    "- **Indexing:** Access a specific element.\n",
    "- **Slicing:** Extract a sub-array.\n",
    "\n",
    "Note that indexing is zero-based."
   ]
  },
  {
   "cell_type": "code",
   "execution_count": 82,
   "id": "dd6d3943",
   "metadata": {},
   "outputs": [
    {
     "name": "stdout",
     "output_type": "stream",
     "text": [
      "First element of a: 1\n",
      "Elements 2 to 4 of a: [2 3 4]\n",
      "\n",
      "Element at row 1, column 2 of b: 6\n",
      "First row of b: [1 2 3]\n",
      "Last column of b: [3 6]\n",
      "Every other value of a: [1 3 5]\n",
      "Every third value of a: [1 4]\n"
     ]
    }
   ],
   "source": [
    "# 1D array indexing and slicing\n",
    "print(\"First element of a:\", a[0])\n",
    "print(\"Elements 2 to 4 of a:\", a[1:4])\n",
    "\n",
    "# 2D array indexing\n",
    "print(\"\\nElement at row 1, column 2 of b:\", b[1, 2])\n",
    "print(\"First row of b:\", b[0])\n",
    "print(\"Last column of b:\", b[:, -1])\n",
    "\n",
    "# Skipping elements:\n",
    "print(\"Every other value of a:\", a[::2])\n",
    "print(\"Every third value of a:\", a[::3])"
   ]
  },
  {
   "cell_type": "code",
   "execution_count": 83,
   "id": "900e3ea3",
   "metadata": {},
   "outputs": [
    {
     "name": "stdout",
     "output_type": "stream",
     "text": [
      "\n",
      "Zeros:\n",
      " [ 0  5 10 15 20 25 30 35 40 45 50 55 60 65 70 75 80 85 90 95]\n",
      "\n",
      "Zeros:\n",
      " [[1. 0. 0. 0. 0. 0. 0. 0. 0. 0.]\n",
      " [0. 1. 0. 0. 0. 0. 0. 0. 0. 0.]\n",
      " [0. 0. 1. 0. 0. 0. 0. 0. 0. 0.]\n",
      " [0. 0. 0. 1. 0. 0. 0. 0. 0. 0.]\n",
      " [0. 0. 0. 0. 1. 0. 0. 0. 0. 0.]\n",
      " [0. 0. 0. 0. 0. 1. 0. 0. 0. 0.]\n",
      " [0. 0. 0. 0. 0. 0. 1. 0. 0. 0.]\n",
      " [0. 0. 0. 0. 0. 0. 0. 1. 0. 0.]\n",
      " [0. 0. 0. 0. 0. 0. 0. 0. 1. 0.]\n",
      " [0. 0. 0. 0. 0. 0. 0. 0. 0. 1.]]\n"
     ]
    }
   ],
   "source": [
    "## Now some things to try again!\n",
    "\n",
    "# Challenge 1: Create an array that is every integer between 1 and 100 (hint: use np.arange). \n",
    "# Then index it to only keep the numbers divisible by 5.\n",
    "arr = np.arange(0, 100, 1)\n",
    "print(\"\\nZeros:\\n\", arr[::5])\n",
    "\n",
    "# Challenge 2: Take this matrix and index it to create a 1D array of 10 1s.\n",
    "input_matrix = np.eye(10) # print this to see what it is\n",
    "one_array = input_matrix\n"
   ]
  },
  {
   "cell_type": "markdown",
   "id": "2a6f651b",
   "metadata": {},
   "source": [
    "## 3. Boolean Indexing (Masking)\n",
    "\n",
    "Boolean indexing (masking) lets you select elements that satisfy a condition.\n",
    "\n",
    "For example, say we want to get rid of every element in a list that is below some value (in this case 18).\n",
    "\n",
    "We can first create a `mask` that is the same size as the array, and is `True` if each entry is greater than 18 and `False` otherwise."
   ]
  },
  {
   "cell_type": "code",
   "execution_count": 84,
   "id": "9e2da700",
   "metadata": {},
   "outputs": [
    {
     "name": "stdout",
     "output_type": "stream",
     "text": [
      "Array c: [10 15 20 25 30]\n",
      "Boolean mask (c > 18): [False False  True  True  True]\n",
      "Filtered array (elements > 18): [20 25 30]\n"
     ]
    }
   ],
   "source": [
    "# Create an array for demonstration\n",
    "c = np.array([10, 15, 20, 25, 30])\n",
    "print(\"Array c:\", c)\n",
    "\n",
    "# Create a boolean mask (True for elements greater than 18)\n",
    "mask = c > 18\n",
    "print(\"Boolean mask (c > 18):\", mask)\n",
    "\n",
    "# Use the mask to filter array elements\n",
    "filtered = c[mask]\n",
    "print(\"Filtered array (elements > 18):\", filtered)"
   ]
  },
  {
   "cell_type": "markdown",
   "id": "3d03b1da",
   "metadata": {},
   "source": [
    "## 4. Combining Operations\n",
    "\n",
    "You can combine slicing and masking for more advanced selections."
   ]
  },
  {
   "cell_type": "code",
   "execution_count": 85,
   "id": "d2b88c6c",
   "metadata": {},
   "outputs": [
    {
     "name": "stdout",
     "output_type": "stream",
     "text": [
      "2D array d:\n",
      " [[0.80611449 1.87518818 2.42166061 1.95282882]\n",
      " [3.91561865 7.65907498 8.97861164 4.08916501]\n",
      " [5.78718633 2.63010791 6.68860449 8.28863629]\n",
      " [0.87613505 1.99216594 8.84477082 1.91038802]]\n",
      "\n",
      "\n",
      "Row mask (first column > 4): [False False  True False]\n",
      "\n",
      "\n",
      "Selected rows:\n",
      " [[5.78718633 2.63010791 6.68860449 8.28863629]]\n",
      "\n",
      "\n",
      "d with elements from selected rows set to 0 [[ 0.80611449  1.87518818  2.42166061  1.95282882]\n",
      " [ 3.91561865  7.65907498  8.97861164  4.08916501]\n",
      " [-1.         -1.         -1.         -1.        ]\n",
      " [ 0.87613505  1.99216594  8.84477082  1.91038802]]\n",
      "\n",
      "\n",
      "Even mask on selected rows:\n",
      " [[False  True  True  True]]\n",
      "\n",
      "\n",
      "Even elements from selected rows: [2.63010791 6.68860449 8.28863629]\n"
     ]
    }
   ],
   "source": [
    "# Create a 2D array\n",
    "d = np.random.rand(4, 4)*10\n",
    "print(\"2D array d:\\n\", d)\n",
    "\n",
    "# Select all rows where the element in the first column is greater than 5\n",
    "row_mask = d[:, 0] > 4\n",
    "print(\"\\n\\nRow mask (first column > 4):\", row_mask)\n",
    "\n",
    "selected_rows = d[row_mask]\n",
    "print(\"\\n\\nSelected rows:\\n\", selected_rows)\n",
    "\n",
    "# Now that we have a mask, we can replace values at the selected locations with another value:\n",
    "d[row_mask] = -1 # For selected rows, set the selected values to -1.\n",
    "print(\"\\n\\nd with elements from selected rows set to 0\", d)\n",
    "\n",
    "# Within these rows, select only elements that are even numbers (when rounded to the nearest int!)\n",
    "even_mask = selected_rows.astype(int) % 2 == 0\n",
    "print(\"\\n\\nEven mask on selected rows:\\n\", even_mask)\n",
    "\n",
    "even_elements = selected_rows[even_mask]\n",
    "print(\"\\n\\nEven elements from selected rows:\", even_elements)\n"
   ]
  },
  {
   "cell_type": "code",
   "execution_count": 86,
   "id": "d8aee7b9",
   "metadata": {},
   "outputs": [
    {
     "name": "stdout",
     "output_type": "stream",
     "text": [
      "2D array e:\n",
      " [[9.05180247 0.36070967 8.09423988 1.93341132 7.50000777 0.45103703\n",
      "  6.70722359 7.96021567 9.79245951 1.88856561]\n",
      " [3.91213106 9.51850664 6.63964183 6.59468546 0.70962698 2.00440157\n",
      "  9.99462623 7.98769727 8.00435518 3.29413976]\n",
      " [5.38455906 9.67594432 6.79356095 1.60025756 0.19712075 6.45646224\n",
      "  8.48751545 5.18253589 7.78222598 0.745422  ]\n",
      " [5.85137416 7.17735268 9.73237449 3.96800849 1.91035045 4.36475787\n",
      "  4.85627418 7.95234601 9.17075482 7.35416381]\n",
      " [8.04758189 0.71696543 9.99752618 2.38303986 7.98242662 2.8742674\n",
      "  8.6357224  0.20716288 4.99716876 6.03824763]\n",
      " [0.60794648 6.23602506 5.48241246 7.97248636 6.63562975 7.10493091\n",
      "  2.94587826 7.3973097  9.3824129  6.43405635]\n",
      " [2.86867777 9.98821617 5.64102143 6.29127276 7.8463187  2.460749\n",
      "  3.40225343 5.44370089 7.49029797 8.82382681]\n",
      " [4.99052196 6.46522381 2.62798618 5.93943138 7.92234177 4.21166444\n",
      "  6.56283651 8.6122726  3.91485674 3.47827719]\n",
      " [7.29832881 0.69006136 7.2923871  5.33497403 6.95185895 7.27011271\n",
      "  6.77726281 2.07473804 5.51886948 0.24594282]\n",
      " [3.67841528 3.97536148 2.39572096 0.13299463 9.88734832 1.92782645\n",
      "  6.54250438 4.63091576 2.74018017 3.18023928]]\n"
     ]
    }
   ],
   "source": [
    "## Final Challenge: Given the below random matrix, keep values where each \n",
    "# element is greater than 3 but less than 5. Set all the other values to zero.\n",
    "\n",
    "e = np.random.rand(10,10)*10 # random 10x10 array \n",
    "print(\"2D array e:\\n\", e)\n",
    "\n",
    "\n"
   ]
  },
  {
   "cell_type": "markdown",
   "id": "90e90f07",
   "metadata": {},
   "source": [
    "## Summary\n",
    "\n",
    "In this notebook you learned:\n",
    "\n",
    "- How to create NumPy arrays from lists and using built-in functions.\n",
    "- How to access elements using indexing and slicing.\n",
    "- How to use boolean indexing (masking) to filter arrays.\n",
    "\n",
    "These are foundational skills that will help you work with numerical data efficiently.\n",
    "\n",
    "Try modifying the code examples and see how changes affect the output. Happy coding!"
   ]
  }
 ],
 "metadata": {
  "jupytext": {
   "cell_metadata_filter": "-all",
   "main_language": "python",
   "notebook_metadata_filter": "-all"
  },
  "kernelspec": {
   "display_name": "Python 3",
   "language": "python",
   "name": "python3"
  },
  "language_info": {
   "codemirror_mode": {
    "name": "ipython",
    "version": 3
   },
   "file_extension": ".py",
   "mimetype": "text/x-python",
   "name": "python",
   "nbconvert_exporter": "python",
   "pygments_lexer": "ipython3",
   "version": "3.13.2"
  }
 },
 "nbformat": 4,
 "nbformat_minor": 5
}
